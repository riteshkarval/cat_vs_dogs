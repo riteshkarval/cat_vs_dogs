{
 "cells": [
  {
   "cell_type": "code",
   "execution_count": 1,
   "metadata": {},
   "outputs": [],
   "source": [
    "import os\n",
    "import json\n",
    "import tensorflow as tf\n",
    "import tensorflow_hub as hub\n",
    "import zipfile\n",
    "import tarfile\n",
    "import argparse\n",
    "from tensorflow.keras.preprocessing.image import ImageDataGenerator\n",
    "from tensorflow.keras.utils import to_categorical\n",
    "from tensorflow.keras.applications.resnet50 import ResNet50\n",
    "from tensorflow.keras.models import Model\n",
    "from tensorflow.keras.layers import Dense\n",
    "from tensorflow.keras.layers import Flatten\n",
    "from tensorflow.keras.optimizers import SGD"
   ]
  },
  {
   "cell_type": "code",
   "execution_count": 2,
   "metadata": {},
   "outputs": [],
   "source": [
    "DATA_DIR = \"/opt/dkube/input/\"\n",
    "MODEL_DIR = \"../model/\"\n",
    "EXTRACT_PATH = \"/tmp/data/\"\n",
    "ZIP_FILE = DATA_DIR + \"/data.zip\"\n",
    "img_shape = (299,299)"
   ]
  },
  {
   "cell_type": "code",
   "execution_count": 3,
   "metadata": {},
   "outputs": [
    {
     "name": "stdout",
     "output_type": "stream",
     "text": [
      "Extracting compressed training data...\n",
      "Training data successfuly extracted\n"
     ]
    }
   ],
   "source": [
    "if os.path.exists(ZIP_FILE):\n",
    "    print(\"Extracting compressed training data...\")\n",
    "    archive = zipfile.ZipFile(ZIP_FILE)\n",
    "    for file in archive.namelist():\n",
    "        if file.startswith('data'):\n",
    "            archive.extract(file, EXTRACT_PATH)\n",
    "    print(\"Training data successfuly extracted\")\n",
    "    DATA_DIR = EXTRACT_PATH + \"/data\""
   ]
  },
  {
   "cell_type": "code",
   "execution_count": 4,
   "metadata": {},
   "outputs": [
    {
     "name": "stdout",
     "output_type": "stream",
     "text": [
      "Found 200 images belonging to 2 classes.\n",
      "Found 200 images belonging to 2 classes.\n"
     ]
    }
   ],
   "source": [
    "datagen = ImageDataGenerator(rescale=1.0/255.0)\n",
    "train_it = datagen.flow_from_directory(DATA_DIR + '/train/', class_mode='binary', batch_size=64, target_size=img_shape)\n",
    "test_it = datagen.flow_from_directory(DATA_DIR + '/valid/', class_mode='binary', batch_size=64, target_size=img_shape)"
   ]
  },
  {
   "cell_type": "code",
   "execution_count": 5,
   "metadata": {},
   "outputs": [
    {
     "name": "stderr",
     "output_type": "stream",
     "text": [
      "/usr/local/lib/python3.6/dist-packages/keras_applications/resnet50.py:265: UserWarning: The output shape of `ResNet50(include_top=False)` has been changed since Keras 2.2.0.\n",
      "  warnings.warn('The output shape of `ResNet50(include_top=False)` '\n",
      "WARNING: Logging before flag parsing goes to stderr.\n",
      "W1007 12:59:04.506372 139964133111616 deprecation.py:506] From /usr/local/lib/python3.6/dist-packages/tensorflow/python/ops/init_ops.py:1251: calling VarianceScaling.__init__ (from tensorflow.python.ops.init_ops) with dtype is deprecated and will be removed in a future version.\n",
      "Instructions for updating:\n",
      "Call initializer instance with the dtype argument instead of passing it to the constructor\n",
      "W1007 12:59:04.579623 139964133111616 deprecation.py:323] From /usr/local/lib/python3.6/dist-packages/tensorflow/python/ops/nn_impl.py:180: add_dispatch_support.<locals>.wrapper (from tensorflow.python.ops.array_ops) is deprecated and will be removed in a future version.\n",
      "Instructions for updating:\n",
      "Use tf.where in 2.0, which has the same broadcast rule as np.where\n"
     ]
    }
   ],
   "source": [
    "model = ResNet50(include_top=False, input_shape=(299, 299, 3))\n",
    "for layer in model.layers:\n",
    "    layer.trainable = False\n",
    "flat1 = Flatten()(model.layers[-1].output)\n",
    "class1 = Dense(128, activation='relu', kernel_initializer='he_uniform')(flat1)\n",
    "output = Dense(1, activation='sigmoid')(class1)\n",
    "# define new model\n",
    "model = Model(inputs=model.inputs, outputs=output)\n",
    "# compile model\n",
    "opt = SGD(lr=0.001, momentum=0.9)\n",
    "model.compile(optimizer=opt, loss='binary_crossentropy', metrics=['accuracy'])"
   ]
  },
  {
   "cell_type": "code",
   "execution_count": 6,
   "metadata": {},
   "outputs": [
    {
     "name": "stdout",
     "output_type": "stream",
     "text": [
      "4/4 [==============================] - 21s 5s/step - loss: 1.2673 - acc: 0.5100\n"
     ]
    }
   ],
   "source": [
    "history = model.fit_generator(train_it, steps_per_epoch=len(train_it), epochs=1, verbose=1)"
   ]
  },
  {
   "cell_type": "code",
   "execution_count": 7,
   "metadata": {},
   "outputs": [
    {
     "name": "stdout",
     "output_type": "stream",
     "text": [
      "[]\n"
     ]
    },
    {
     "name": "stderr",
     "output_type": "stream",
     "text": [
      "W1007 12:59:41.987456 139964133111616 deprecation.py:323] From <ipython-input-7-2430cd235739>:23: simple_save (from tensorflow.python.saved_model.simple_save) is deprecated and will be removed in a future version.\n",
      "Instructions for updating:\n",
      "This function will only be available through the v1 compatibility library as tf.compat.v1.saved_model.simple_save.\n",
      "W1007 12:59:41.988351 139964133111616 deprecation.py:323] From /usr/local/lib/python3.6/dist-packages/tensorflow/python/saved_model/signature_def_utils_impl.py:201: build_tensor_info (from tensorflow.python.saved_model.utils_impl) is deprecated and will be removed in a future version.\n",
      "Instructions for updating:\n",
      "This function will only be available through the v1 compatibility library as tf.compat.v1.saved_model.utils.build_tensor_info or tf.compat.v1.saved_model.build_tensor_info.\n"
     ]
    },
    {
     "name": "stdout",
     "output_type": "stream",
     "text": [
      "Model saved, version =  1\n"
     ]
    }
   ],
   "source": [
    "export_path = MODEL_DIR\n",
    "version = 0\n",
    "if not tf.io.gfile.exists(export_path):\n",
    "    tf.io.gfile.makedirs(export_path)\n",
    "model_contents = tf.io.gfile.listdir(export_path)\n",
    "\n",
    "saved_models = []\n",
    "for mdir in model_contents:\n",
    "    if mdir != 'logs' and mdir != 'metrics':\n",
    "        saved_models.append(int(mdir))\n",
    "print(saved_models)\n",
    "if len(saved_models) < 1:\n",
    "    version = 1\n",
    "else:\n",
    "    version = max(saved_models) + 1\n",
    "model.save(export_path + 'weights.h5')\n",
    "tf.keras.backend.set_learning_phase(0)  # Ignore dropout at inference\n",
    "with tf.keras.backend.get_session() as sess:\n",
    "    tf.saved_model.simple_save(\n",
    "        sess,\n",
    "        export_path + str(version),\n",
    "        inputs={'input': model.input},\n",
    "        outputs={'output': model.output})\n",
    "print(\"Model saved, version = \", version)"
   ]
  },
  {
   "cell_type": "code",
   "execution_count": 21,
   "metadata": {},
   "outputs": [],
   "source": [
    "import cv2\n",
    "import numpy as np\n",
    "x = cv2.imread('../data/valid/cats/cat.10026.jpg')\n",
    "x = cv2.resize(x, (298, 298))\n",
    "x = np.array(x, dtype=np.float64)\n",
    "x = x.reshape(1,298,298,3)\n",
    "res = {\"inputs\": {'input': x.tolist()}}\n",
    "with open('cat-inp.json', 'w') as outfile:\n",
    "    json.dump(res, outfile, indent=4)"
   ]
  },
  {
   "cell_type": "code",
   "execution_count": 33,
   "metadata": {},
   "outputs": [],
   "source": [
    "import base64\n",
    "with open(\"../data/valid/cats/cat.10026.jpg\", \"rb\") as image_file:\n",
    "    encoded_string = base64.b64encode(image_file.read())"
   ]
  },
  {
   "cell_type": "code",
   "execution_count": 37,
   "metadata": {},
   "outputs": [],
   "source": [
    "inputs = {\n",
    "            'signatures':{\n",
    "                'inputs':[[{'data':encoded_string.decode('utf-8')}]]\n",
    "            },\n",
    "            'instances': [],\n",
    "            'token': 'Dumy token'\n",
    "}"
   ]
  },
  {
   "cell_type": "code",
   "execution_count": 38,
   "metadata": {},
   "outputs": [],
   "source": [
    "with open('cat-inp-tansformer.json', 'w') as outfile:\n",
    "    json.dump(inputs, outfile, indent=4)"
   ]
  },
  {
   "cell_type": "code",
   "execution_count": null,
   "metadata": {},
   "outputs": [],
   "source": []
  }
 ],
 "metadata": {
  "kernelspec": {
   "display_name": "Python 3",
   "language": "python",
   "name": "python3"
  },
  "language_info": {
   "codemirror_mode": {
    "name": "ipython",
    "version": 3
   },
   "file_extension": ".py",
   "mimetype": "text/x-python",
   "name": "python",
   "nbconvert_exporter": "python",
   "pygments_lexer": "ipython3",
   "version": "3.6.8"
  }
 },
 "nbformat": 4,
 "nbformat_minor": 4
}
